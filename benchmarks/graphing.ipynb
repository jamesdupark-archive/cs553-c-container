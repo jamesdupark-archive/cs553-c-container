{
 "cells": [
  {
   "cell_type": "code",
   "execution_count": 34,
   "id": "542e00e9",
   "metadata": {},
   "outputs": [],
   "source": [
    "# %matplotlib notebook\n",
    "%matplotlib inline\n",
    "import matplotlib.pyplot as plt\n",
    "import pandas as pd\n",
    "import numpy as np\n",
    "import re"
   ]
  },
  {
   "cell_type": "markdown",
   "id": "1aa6ee9c",
   "metadata": {},
   "source": [
    "# Image Pull Time Graphs\n",
    "Get the (real) pull times from each benchmark and put them in the `realtimes` list"
   ]
  },
  {
   "cell_type": "code",
   "execution_count": 35,
   "id": "401468b4",
   "metadata": {},
   "outputs": [],
   "source": [
    "containers = [\"native\", \"ccontainer\", \"ccontainer-internal\", \"docker\"]\n",
    "realtimes = [17.997, 18.505, 18.310, 4.485]"
   ]
  },
  {
   "cell_type": "code",
   "execution_count": 36,
   "id": "a154b6ce",
   "metadata": {},
   "outputs": [
    {
     "data": {
      "image/png": "[encoded data removed]",
      "text/plain": [
       "<Figure size 432x288 with 1 Axes>"
      ]
     },
     "metadata": {
      "needs_background": "light"
     },
     "output_type": "display_data"
    }
   ],
   "source": [
    "plt.figure()\n",
    "plt.title(\"Image Pull Times\")\n",
    "plt.ylabel(\"Time (s)\")\n",
    "plt.xlabel(\"Container\")\n",
    "plt.bar(containers, realtimes)\n",
    "plt.xticks(rotation=0)\n",
    "plt.show()"
   ]
  },
  {
   "cell_type": "markdown",
   "id": "96461422",
   "metadata": {},
   "source": [
    "# Startup Time Graphs\n",
    "Times can be separated from their respective files by running the `get_times.sh` script, then copy-pasting the results to their respective variables as multiline strings. `get_times.sh` has the following syntax:\n",
    "```\n",
    "./get_times.sh <path_to_file> <key1> ... <keyn>\n",
    "```\n",
    "where `path_to_file` is the path from the current directory to the target file (e.g. `results/docker_startup.txt`) and `key1` through `keyn` are the keys on which to separate out lines (e.g. `real`, `user`, `sys`)"
   ]
  },
  {
   "cell_type": "code",
   "execution_count": 37,
   "id": "8378a5ad",
   "metadata": {},
   "outputs": [],
   "source": [
    "timestolist = lambda longstr: [float(re.search(\"(?<=m)(.*?)(?=s)\", l).group(0)) for l in longstr.splitlines()]"
   ]
  },
  {
   "cell_type": "code",
   "execution_count": 38,
   "id": "e2102214",
   "metadata": {},
   "outputs": [],
   "source": [
    "docker_realtimes = '''0m0.521s\n",
    "0m0.441s\n",
    "0m0.464s\n",
    "0m0.438s\n",
    "0m0.450s\n",
    "0m0.461s\n",
    "0m0.481s\n",
    "0m0.463s\n",
    "0m0.460s\n",
    "0m0.445s\n",
    "'''\n",
    "docker_usertimes = '''0m0.018s\n",
    "0m0.016s\n",
    "0m0.024s\n",
    "0m0.014s\n",
    "0m0.015s\n",
    "0m0.013s\n",
    "0m0.024s\n",
    "0m0.023s\n",
    "0m0.015s\n",
    "0m0.018s\n",
    "'''\n",
    "docker_systimes = '''0m0.024s\n",
    "0m0.026s\n",
    "0m0.029s\n",
    "0m0.023s\n",
    "0m0.034s\n",
    "0m0.035s\n",
    "0m0.027s\n",
    "0m0.027s\n",
    "0m0.027s\n",
    "0m0.030s\n",
    "'''\n",
    "ccontainer_realtimes = '''0m0.175s\n",
    "0m0.157s\n",
    "0m0.155s\n",
    "0m0.154s\n",
    "0m0.165s\n",
    "0m0.166s\n",
    "0m0.151s\n",
    "0m0.156s\n",
    "0m0.162s\n",
    "0m0.165s\n",
    "'''\n",
    "ccontainer_usertimes = '''0m0.002s\n",
    "0m0.005s\n",
    "0m0.004s\n",
    "0m0.003s\n",
    "0m0.002s\n",
    "0m0.003s\n",
    "0m0.001s\n",
    "0m0.004s\n",
    "0m0.002s\n",
    "0m0.005s\n",
    "'''\n",
    "ccontainer_systimes = '''0m0.038s\n",
    "0m0.033s\n",
    "0m0.032s\n",
    "0m0.034s\n",
    "0m0.040s\n",
    "0m0.047s\n",
    "0m0.033s\n",
    "0m0.032s\n",
    "0m0.040s\n",
    "0m0.033s\n",
    "'''\n",
    "ccontainerinternal = '''0.116533\n",
    "0.107791\n",
    "0.103029\n",
    "0.104343\n",
    "0.103801\n",
    "0.110010\n",
    "0.096274\n",
    "0.104224\n",
    "0.109497\n",
    "0.108052\n",
    "'''"
   ]
  },
  {
   "cell_type": "code",
   "execution_count": 39,
   "id": "27db2270",
   "metadata": {},
   "outputs": [
    {
     "name": "stdout",
     "output_type": "stream",
     "text": [
      "[0.116533, 0.107791, 0.103029, 0.104343, 0.103801, 0.11001, 0.096274, 0.104224, 0.109497, 0.108052]\n"
     ]
    }
   ],
   "source": [
    "timetypes = [\"real\", \"user\", \"sys\"]\n",
    "dockertimes = { t: timestolist(s) for t, s in zip(timetypes, [docker_realtimes, docker_usertimes, docker_systimes])}\n",
    "ccontainertimes = { t: timestolist(s) for t, s in zip(timetypes, [ccontainer_realtimes, ccontainer_usertimes, ccontainer_systimes])}\n",
    "ccontainerinternal = [float(l.strip()) for l in ccontainerinternal.splitlines()]\n",
    "print(ccontainerinternal)"
   ]
  },
  {
   "cell_type": "code",
   "execution_count": 40,
   "id": "345284f8",
   "metadata": {
    "scrolled": true
   },
   "outputs": [
    {
     "data": {
      "text/html": [
       "<div>\n",
       "<style scoped>\n",
       "    .dataframe tbody tr th:only-of-type {\n",
       "        vertical-align: middle;\n",
       "    }\n",
       "\n",
       "    .dataframe tbody tr th {\n",
       "        vertical-align: top;\n",
       "    }\n",
       "\n",
       "    .dataframe thead th {\n",
       "        text-align: right;\n",
       "    }\n",
       "</style>\n",
       "<table border=\"1\" class=\"dataframe\">\n",
       "  <thead>\n",
       "    <tr style=\"text-align: right;\">\n",
       "      <th></th>\n",
       "      <th>real</th>\n",
       "      <th>user</th>\n",
       "      <th>sys</th>\n",
       "    </tr>\n",
       "  </thead>\n",
       "  <tbody>\n",
       "    <tr>\n",
       "      <th>ccontainer</th>\n",
       "      <td>0.1606</td>\n",
       "      <td>0.0031</td>\n",
       "      <td>0.0362</td>\n",
       "    </tr>\n",
       "    <tr>\n",
       "      <th>docker</th>\n",
       "      <td>0.4624</td>\n",
       "      <td>0.0180</td>\n",
       "      <td>0.0282</td>\n",
       "    </tr>\n",
       "  </tbody>\n",
       "</table>\n",
       "</div>"
      ],
      "text/plain": [
       "              real    user     sys\n",
       "ccontainer  0.1606  0.0031  0.0362\n",
       "docker      0.4624  0.0180  0.0282"
      ]
     },
     "execution_count": 40,
     "metadata": {},
     "output_type": "execute_result"
    },
    {
     "data": {
      "image/png": "[encoded data removed]",
      "text/plain": [
       "<Figure size 432x288 with 1 Axes>"
      ]
     },
     "metadata": {
      "needs_background": "light"
     },
     "output_type": "display_data"
    },
    {
     "data": {
      "image/png": "[encoded data removed]",
      "text/plain": [
       "<Figure size 432x288 with 1 Axes>"
      ]
     },
     "metadata": {
      "needs_background": "light"
     },
     "output_type": "display_data"
    }
   ],
   "source": [
    "ddf = pd.DataFrame(dockertimes)\n",
    "cdf = pd.DataFrame(ccontainertimes)\n",
    "# ddf.mean().plot(kind='bar', yerr=ddf.std())\n",
    "# df.std()\n",
    "combined = pd.DataFrame([cdf.mean().T, ddf.mean().T], [\"ccontainer\", \"docker\"])\n",
    "# combined.plot.bar(y=[\"real\"], yerr=[ddf.std().iloc[0], cdf.std().iloc[0]], title=\"Docker vs ccontainer Startup\", ylabel=\"Time (s)\", xlabel=\"Container\", rot=0)\n",
    "realtimes = pd.concat([pd.DataFrame({\"real\" : [np.mean(ccontainerinternal)]}, [\"ccontainer-internal\"]), combined[\"real\"]])\n",
    "realtimes.plot.bar(yerr=[cdf.std().iloc[0], np.std(ccontainerinternal), ddf.std().iloc[0]], title=\"Docker vs ccontainer Startup\", ylabel=\"Time (s)\", xlabel=\"Container\", rot=0)\n",
    "combined.plot.bar(y=[\"user\", \"sys\"], stacked=True, title=\"Docker vs ccontainer startup CPU Time\", ylabel=\"Time(s)\", xlabel=\"Container\", rot=0)\n",
    "combined"
   ]
  },
  {
   "cell_type": "markdown",
   "id": "fa6b2a97",
   "metadata": {},
   "source": [
    "# Disk Performance Graphs\n",
    "Simply copy and paste the throughputs to their appropriate locations"
   ]
  },
  {
   "cell_type": "code",
   "execution_count": 41,
   "id": "cc9411d1",
   "metadata": {},
   "outputs": [],
   "source": [
    "containers = [\"native\", \"ccontainer\", \"docker\"]\n",
    "throughputs = [27.7, 28.8, 39.2]"
   ]
  },
  {
   "cell_type": "code",
   "execution_count": 42,
   "id": "bbf142eb",
   "metadata": {},
   "outputs": [
    {
     "data": {
      "image/png": "[encoded data removed]",
      "text/plain": [
       "<Figure size 432x288 with 1 Axes>"
      ]
     },
     "metadata": {
      "needs_background": "light"
     },
     "output_type": "display_data"
    }
   ],
   "source": [
    "plt.figure()\n",
    "plt.title(\"Image Pull Times\")\n",
    "plt.ylabel(\"Throughput (MB/s)\")\n",
    "plt.xlabel(\"Container\")\n",
    "plt.bar(containers, throughputs)\n",
    "plt.xticks(rotation=0)\n",
    "plt.show()"
   ]
  }
 ],
 "metadata": {
  "kernelspec": {
   "display_name": "Python 3 (ipykernel)",
   "language": "python",
   "name": "python3"
  },
  "language_info": {
   "codemirror_mode": {
    "name": "ipython",
    "version": 3
   },
   "file_extension": ".py",
   "mimetype": "text/x-python",
   "name": "python",
   "nbconvert_exporter": "python",
   "pygments_lexer": "ipython3",
   "version": "3.10.12"
  }
 },
 "nbformat": 4,
 "nbformat_minor": 5
}
